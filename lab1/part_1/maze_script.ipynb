{
 "cells": [
  {
   "cell_type": "code",
   "execution_count": 1,
   "metadata": {},
   "outputs": [],
   "source": [
    "import numpy as np\n",
    "import matplotlib.pyplot as plt\n",
    "import time\n",
    "from IPython import display\n",
    "import pdb\n",
    "import random\n",
    "import maze as mz\n",
    "import matplotlib.pyplot as plt\n",
    "    \n",
    "maze = np.array([\n",
    "    [0, 0, 1, 0, 0, 0, 0, 0],\n",
    "    [0, 0, 1, 0, 0, 1, 0, 0],\n",
    "    [0, 0, 1, 0, 0, 1, 1, 1],\n",
    "    [0, 0, 1, 0, 0, 1, 0, 0],\n",
    "    [0, 0, 0, 0, 0, 0, 0, 0],\n",
    "    [0, 1, 1, 1, 1, 1, 1, 0],\n",
    "    [0, 0, 0, 0, 1, 2, 0, 0]\n",
    "])"
   ]
  },
  {
   "cell_type": "code",
   "execution_count": 2,
   "metadata": {},
   "outputs": [],
   "source": [
    "# (b) Illustrate an optimal policy for T=20"
   ]
  },
  {
   "cell_type": "code",
   "execution_count": 3,
   "metadata": {},
   "outputs": [],
   "source": [
    "# Create an environment maze\n",
    "env = mz.Maze(maze)\n",
    "horizon = 20"
   ]
  },
  {
   "cell_type": "code",
   "execution_count": 9,
   "metadata": {},
   "outputs": [],
   "source": [
    "# Solve the MDP problem with dynamic programming \n",
    "V, policy= mz.dynamic_programming(env,horizon);\n",
    "# Simulate the shortest path starting from position A\n",
    "method = 'DynProg';\n",
    "start  = (0,0,6,5);\n",
    "path = env.simulate(start, policy, method);"
   ]
  },
  {
   "cell_type": "code",
   "execution_count": 10,
   "metadata": {},
   "outputs": [
    {
     "data": {
      "image/png": "[encoded data removed]",
      "text/plain": [
       "<Figure size 576x504 with 1 Axes>"
      ]
     },
     "metadata": {},
     "output_type": "display_data"
    }
   ],
   "source": [
    "mz.animate_solution(maze, path)"
   ]
  },
  {
   "cell_type": "code",
   "execution_count": null,
   "metadata": {},
   "outputs": [],
   "source": [
    "# (b) When the minotaur cannot stand still"
   ]
  },
  {
   "cell_type": "code",
   "execution_count": 29,
   "metadata": {},
   "outputs": [],
   "source": [
    "# Create an environment maze\n",
    "env = mz.Maze(maze)\n",
    "max_horizon = 40"
   ]
  },
  {
   "cell_type": "code",
   "execution_count": 30,
   "metadata": {},
   "outputs": [],
   "source": [
    "probabilities_escape = np.zeros(max_horizon)"
   ]
  },
  {
   "cell_type": "code",
   "execution_count": 31,
   "metadata": {},
   "outputs": [],
   "source": [
    "# Finite horizon\n",
    "for horizon in range(13,max_horizon):\n",
    "\n",
    "    # Solve the MDP problem with dynamic programming \n",
    "    V, policy= mz.dynamic_programming(env,horizon);\n",
    "    # Simulate the shortest path starting from position A\n",
    "    method = 'DynProg';\n",
    "    start  = (0,0,5,6);\n",
    "    path = env.simulate(start, policy, method);\n",
    "    \n",
    "    no_runs = 100\n",
    "    paths =[]\n",
    "\n",
    "    win_count = 0\n",
    "    dead_count = 0\n",
    "\n",
    "    for i in range(no_runs):\n",
    "        path = env.simulate(start, policy, method);\n",
    "        player_path = [ el[:2] for el in path ]\n",
    "        minotaur_path = [ el[2:] for el in path ]\n",
    "\n",
    "        if 1 in [1 for i, j in zip(player_path, minotaur_path) if i == j]:\n",
    "            dead_count += 1\n",
    "        paths.append(path)\n",
    "        if path[-1][:2]==(6, 5):\n",
    "            win_count +=1\n",
    "\n",
    "        #print(\"win_count \",win_count)\n",
    "        #print(\"dead_count \",dead_count)\n",
    "\n",
    "    probabilities_escape[horizon] = win_count/no_runs\n"
   ]
  },
  {
   "cell_type": "code",
   "execution_count": 33,
   "metadata": {},
   "outputs": [
    {
     "data": {
      "image/png": "[encoded data removed]",
      "text/plain": [
       "<Figure size 691.2x460.8 with 1 Axes>"
      ]
     },
     "metadata": {
      "needs_background": "light"
     },
     "output_type": "display_data"
    }
   ],
   "source": [
    "#print(probabilities_escape)\n",
    "plt.figure(figsize=(9.6,6.4))\n",
    "plt.plot(range(0,max_horizon),probabilities_escape, 'go')\n",
    "plt.ylabel('Max probability of escape')\n",
    "plt.title('The minotaur cannot stand still')\n",
    "plt.xlabel('Time Horizon')\n",
    "#plt.show()\n",
    "plt.savefig('Q1b_max_prob_escape_cannot_stand_still.png')"
   ]
  },
  {
   "cell_type": "code",
   "execution_count": 13,
   "metadata": {},
   "outputs": [],
   "source": [
    "# (b) When the minotaur can stand still"
   ]
  },
  {
   "cell_type": "code",
   "execution_count": null,
   "metadata": {},
   "outputs": [],
   "source": [
    "# Create an environment maze\n",
    "env = mz.Maze(maze, True)\n",
    "max_horizon = 40"
   ]
  },
  {
   "cell_type": "code",
   "execution_count": null,
   "metadata": {},
   "outputs": [],
   "source": [
    "probabilities_escape_stay = np.zeros(max_horizon)"
   ]
  },
  {
   "cell_type": "code",
   "execution_count": null,
   "metadata": {},
   "outputs": [],
   "source": [
    "# Finite horizon\n",
    "for horizon in range(13,max_horizon):\n",
    "\n",
    "    # Solve the MDP problem with dynamic programming \n",
    "    V, policy= mz.dynamic_programming(env,horizon);\n",
    "    # Simulate the shortest path starting from position A\n",
    "    method = 'DynProg';\n",
    "    start  = (0,0,5,6);\n",
    "    path = env.simulate(start, policy, method);\n",
    "    \n",
    "    no_runs = 10000\n",
    "    paths =[]\n",
    "\n",
    "    win_count = 0\n",
    "    dead_count = 0\n",
    "\n",
    "    for i in range(no_runs):\n",
    "        path = env.simulate(start, policy, method);\n",
    "        player_path = [ el[:2] for el in path ]\n",
    "        minotaur_path = [ el[2:] for el in path ]\n",
    "\n",
    "        if 1 in [1 for i, j in zip(player_path, minotaur_path) if i == j]:\n",
    "            dead_count += 1\n",
    "        paths.append(path)\n",
    "        if path[-1][:2]==(6, 5):\n",
    "            win_count +=1\n",
    "\n",
    "        #print(\"win_count \",win_count)\n",
    "        #print(\"dead_count \",dead_count)\n",
    "\n",
    "    probabilities_escape_stay[horizon] = win_count/no_runs"
   ]
  },
  {
   "cell_type": "code",
   "execution_count": 26,
   "metadata": {},
   "outputs": [
    {
     "data": {
      "image/png": "[encoded data removed]",
      "text/plain": [
       "<Figure size 691.2x460.8 with 1 Axes>"
      ]
     },
     "metadata": {
      "needs_background": "light"
     },
     "output_type": "display_data"
    }
   ],
   "source": [
    "plt.figure(figsize=(9.6,6.4))\n",
    "plt.plot(range(0,max_horizon),probabilities_escape_stay, 'bo')\n",
    "plt.title(\"The minotaur cannot stand still\")\n",
    "plt.ylabel('Max probability of escape')\n",
    "plt.xlabel('Time Horizon')\n",
    "plt.savefig('Q1b_max_prob_escape_can_stand_still.png')"
   ]
  },
  {
   "cell_type": "code",
   "execution_count": null,
   "metadata": {},
   "outputs": [],
   "source": [
    "# (c) When the player's life is geometrically distributed."
   ]
  },
  {
   "cell_type": "code",
   "execution_count": 8,
   "metadata": {},
   "outputs": [],
   "source": [
    "# Create an environment maze\n",
    "env = mz.Maze(maze)\n",
    "gamma = 29/30\n",
    "eps = 0.001"
   ]
  },
  {
   "cell_type": "code",
   "execution_count": 9,
   "metadata": {},
   "outputs": [],
   "source": [
    "# Solve the MDP problem with value iteration\n",
    "V, policy= mz.value_iteration(env,gamma,eps);\n",
    "\n",
    "# Simulate the shortest path starting from position A\n",
    "method = 'ValIter';\n",
    "start  = (0,0,6,5);\n",
    "path = env.simulate(start, policy, method);"
   ]
  },
  {
   "cell_type": "code",
   "execution_count": 10,
   "metadata": {},
   "outputs": [
    {
     "name": "stdout",
     "output_type": "stream",
     "text": [
      "Probability of escape  0.7728  in  10000  runs.\n"
     ]
    }
   ],
   "source": [
    "# Caluclate probability of escaping with value iteration\n",
    "no_runs = 10000\n",
    "paths =[]\n",
    "\n",
    "win_count = 0\n",
    "dead_count = 0\n",
    "\n",
    "for i in range(no_runs):\n",
    "    path = env.simulate(start, policy, method);\n",
    "    player_path = [ el[:2] for el in path ]\n",
    "    minotaur_path = [ el[2:] for el in path ]\n",
    "\n",
    "    if 1 in [1 for i, j in zip(player_path, minotaur_path) if i == j]:\n",
    "        dead_count += 1\n",
    "    paths.append(path)\n",
    "    if path[-1][:2]==(6, 5):\n",
    "        win_count +=1\n",
    "\n",
    "print(\"Probability of escape \", win_count/no_runs, \" in \", no_runs, \" runs.\")"
   ]
  },
  {
   "cell_type": "code",
   "execution_count": null,
   "metadata": {},
   "outputs": [],
   "source": []
  }
 ],
 "metadata": {
  "kernelspec": {
   "display_name": "Python 3",
   "language": "python",
   "name": "python3"
  },
  "language_info": {
   "codemirror_mode": {
    "name": "ipython",
    "version": 3
   },
   "file_extension": ".py",
   "mimetype": "text/x-python",
   "name": "python",
   "nbconvert_exporter": "python",
   "pygments_lexer": "ipython3",
   "version": "3.8.3"
  }
 },
 "nbformat": 4,
 "nbformat_minor": 4
}
