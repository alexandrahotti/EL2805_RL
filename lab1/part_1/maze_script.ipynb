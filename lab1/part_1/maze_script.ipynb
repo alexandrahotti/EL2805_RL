{
 "cells": [
  {
   "cell_type": "code",
   "execution_count": 30,
   "metadata": {},
   "outputs": [],
   "source": [
    "import numpy as np\n",
    "import matplotlib.pyplot as plt\n",
    "import time\n",
    "from IPython import display\n",
    "import pdb\n",
    "import random\n",
    "import maze as mz\n",
    "import matplotlib.pyplot as plt\n",
    "    \n",
    "maze = np.array([\n",
    "    [0, 0, 1, 0, 0, 0, 0, 0],\n",
    "    [0, 0, 1, 0, 0, 1, 0, 0],\n",
    "    [0, 0, 1, 0, 0, 1, 1, 1],\n",
    "    [0, 0, 1, 0, 0, 1, 0, 0],\n",
    "    [0, 0, 0, 0, 0, 0, 0, 0],\n",
    "    [0, 1, 1, 1, 1, 1, 1, 0],\n",
    "    [0, 0, 0, 0, 1, 2, 0, 0]\n",
    "])"
   ]
  },
  {
   "cell_type": "code",
   "execution_count": 31,
   "metadata": {},
   "outputs": [],
   "source": [
    "# (b) Illustrate an optimal policy for T=20"
   ]
  },
  {
   "cell_type": "code",
   "execution_count": 35,
   "metadata": {},
   "outputs": [],
   "source": [
    "# Create an environment maze\n",
    "env = mz.Maze(maze)\n",
    "horizon = 20"
   ]
  },
  {
   "cell_type": "code",
   "execution_count": 38,
   "metadata": {},
   "outputs": [],
   "source": [
    "# Solve the MDP problem with dynamic programming \n",
    "V, policy= mz.dynamic_programming(env,horizon);\n",
    "# Simulate the shortest path starting from position A\n",
    "method = 'DynProg';\n",
    "start  = (0,0,6,5);"
   ]
  },
  {
   "cell_type": "code",
   "execution_count": 37,
   "metadata": {},
   "outputs": [
    {
     "ename": "KeyboardInterrupt",
     "evalue": "",
     "output_type": "error",
     "traceback": [
      "\u001b[0;31m---------------------------------------------------------------------------\u001b[0m",
      "\u001b[0;31mKeyboardInterrupt\u001b[0m                         Traceback (most recent call last)",
      "\u001b[0;32m<ipython-input-37-44de6923825a>\u001b[0m in \u001b[0;36m<module>\u001b[0;34m\u001b[0m\n\u001b[1;32m      1\u001b[0m \u001b[0mpath\u001b[0m \u001b[0;34m=\u001b[0m \u001b[0menv\u001b[0m\u001b[0;34m.\u001b[0m\u001b[0msimulate\u001b[0m\u001b[0;34m(\u001b[0m\u001b[0mstart\u001b[0m\u001b[0;34m,\u001b[0m \u001b[0mpolicy\u001b[0m\u001b[0;34m,\u001b[0m \u001b[0mmethod\u001b[0m\u001b[0;34m)\u001b[0m\u001b[0;34m;\u001b[0m\u001b[0;34m\u001b[0m\u001b[0;34m\u001b[0m\u001b[0m\n\u001b[0;32m----> 2\u001b[0;31m \u001b[0mmz\u001b[0m\u001b[0;34m.\u001b[0m\u001b[0manimate_solution\u001b[0m\u001b[0;34m(\u001b[0m\u001b[0mmaze\u001b[0m\u001b[0;34m,\u001b[0m \u001b[0mpath\u001b[0m\u001b[0;34m)\u001b[0m\u001b[0;34m\u001b[0m\u001b[0;34m\u001b[0m\u001b[0m\n\u001b[0m",
      "\u001b[0;32m~/Desktop/Courses/RL course/labs/lab1-p2/EL2805_RL-main/lab1/part_1/maze.py\u001b[0m in \u001b[0;36manimate_solution\u001b[0;34m(maze, path)\u001b[0m\n\u001b[1;32m    560\u001b[0m         \u001b[0mdisplay\u001b[0m\u001b[0;34m.\u001b[0m\u001b[0mdisplay\u001b[0m\u001b[0;34m(\u001b[0m\u001b[0mfig\u001b[0m\u001b[0;34m)\u001b[0m\u001b[0;34m\u001b[0m\u001b[0;34m\u001b[0m\u001b[0m\n\u001b[1;32m    561\u001b[0m         \u001b[0mdisplay\u001b[0m\u001b[0;34m.\u001b[0m\u001b[0mclear_output\u001b[0m\u001b[0;34m(\u001b[0m\u001b[0mwait\u001b[0m\u001b[0;34m=\u001b[0m\u001b[0;32mTrue\u001b[0m\u001b[0;34m)\u001b[0m\u001b[0;34m\u001b[0m\u001b[0;34m\u001b[0m\u001b[0m\n\u001b[0;32m--> 562\u001b[0;31m         \u001b[0mtime\u001b[0m\u001b[0;34m.\u001b[0m\u001b[0msleep\u001b[0m\u001b[0;34m(\u001b[0m\u001b[0;36m1\u001b[0m\u001b[0;34m)\u001b[0m\u001b[0;34m\u001b[0m\u001b[0;34m\u001b[0m\u001b[0m\n\u001b[0m\u001b[1;32m    563\u001b[0m     \u001b[0mplt\u001b[0m\u001b[0;34m.\u001b[0m\u001b[0msavefig\u001b[0m\u001b[0;34m(\u001b[0m\u001b[0;34m'Q1_a_optimal_path.png'\u001b[0m\u001b[0;34m)\u001b[0m\u001b[0;34m\u001b[0m\u001b[0;34m\u001b[0m\u001b[0m\n\u001b[1;32m    564\u001b[0m \u001b[0;34m\u001b[0m\u001b[0m\n",
      "\u001b[0;31mKeyboardInterrupt\u001b[0m: "
     ]
    },
    {
     "data": {
      "image/png": "[encoded data removed]",
      "text/plain": [
       "<Figure size 576x504 with 1 Axes>"
      ]
     },
     "metadata": {},
     "output_type": "display_data"
    }
   ],
   "source": [
    "path = env.simulate(start, policy, method);\n",
    "mz.animate_solution(maze, path)"
   ]
  },
  {
   "cell_type": "code",
   "execution_count": null,
   "metadata": {},
   "outputs": [],
   "source": [
    "# (b) Illustrate an optimal policy for T=20 v2."
   ]
  },
  {
   "cell_type": "code",
   "execution_count": 39,
   "metadata": {},
   "outputs": [
    {
     "name": "stdout",
     "output_type": "stream",
     "text": [
      "0   0   -14.102012671821637\n",
      "0   1   -13.233959758081541\n",
      "0   3   -12.122056201183174\n",
      "0   4   -10.135294405106624\n",
      "0   5   -12.122056201183174\n",
      "0   6   -12.122056201183174\n",
      "0   7   -13.844017933574275\n",
      "\n",
      "1   0   -13.233959758081541\n",
      "1   1   -12.122056201183174\n",
      "1   3   -10.135294405106624\n",
      "1   4   -9.14315349778763\n",
      "1   6   -13.844017933574275\n",
      "1   7   -14.102012671821637\n",
      "\n",
      "2   0   -12.122056201183174\n",
      "2   1   -11.186442126374974\n",
      "2   3   -9.14315349778763\n",
      "2   4   -8.142479473747315\n",
      "\n",
      "3   0   -11.186442126374974\n",
      "3   1   -10.135294405106624\n",
      "3   3   -8.142479473747315\n",
      "3   4   -7.145011302451019\n",
      "3   6   -5.145011302451019\n",
      "3   7   -4.145011302451019\n",
      "\n",
      "4   0   -10.135294405106624\n",
      "4   1   -9.14315349778763\n",
      "4   2   -8.142479473747315\n",
      "4   3   -7.145011302451019\n",
      "4   4   -6.145011302451019\n",
      "4   5   -5.145011302451019\n",
      "4   6   -4.145011302451019\n",
      "4   7   -3.145011302451019\n",
      "\n",
      "5   0   -11.186442126374974\n",
      "5   7   -2.1450113024510196\n",
      "\n",
      "6   0   -12.122056201183174\n",
      "6   1   -13.233959758081541\n",
      "6   2   -14.102012671821637\n",
      "6   3   -15.26903957126984\n",
      "6   5   -0.14501130245101954\n",
      "6   6   -0.14501130245101954\n",
      "6   7   -1.1450113024510196\n",
      "\n"
     ]
    }
   ],
   "source": [
    "t = 0\n",
    "T = 20\n",
    "minotaur_pos = (0,3)\n",
    "\n",
    "for i in range(env.maze.shape[0]):\n",
    "    for j in range(env.maze.shape[1]):\n",
    "        if env.maze[i,j] != 1:\n",
    "            state = env.map[(i,j,minotaur_pos[0], minotaur_pos[1])]\n",
    "            print(i ,\" \",j,\" \",  V[state, t])\n",
    "        \n",
    "    print()"
   ]
  },
  {
   "cell_type": "code",
   "execution_count": null,
   "metadata": {},
   "outputs": [],
   "source": [
    "# (b) When the minotaur cannot stand still"
   ]
  },
  {
   "cell_type": "code",
   "execution_count": 6,
   "metadata": {},
   "outputs": [],
   "source": [
    "# Create an environment maze\n",
    "env = mz.Maze(maze)\n",
    "max_horizon = 40"
   ]
  },
  {
   "cell_type": "code",
   "execution_count": 7,
   "metadata": {},
   "outputs": [],
   "source": [
    "probabilities_escape = np.zeros(max_horizon)"
   ]
  },
  {
   "cell_type": "code",
   "execution_count": 8,
   "metadata": {},
   "outputs": [],
   "source": [
    "# Finite horizon\n",
    "for horizon in range(13,max_horizon):\n",
    "\n",
    "    # Solve the MDP problem with dynamic programming \n",
    "    V, policy= mz.dynamic_programming(env,horizon);\n",
    "    # Simulate the shortest path starting from position A\n",
    "    method = 'DynProg';\n",
    "    start  = (0,0,5,6);\n",
    "    path = env.simulate(start, policy, method);\n",
    "    \n",
    "    no_runs = 100\n",
    "    paths =[]\n",
    "\n",
    "    win_count = 0\n",
    "    dead_count = 0\n",
    "\n",
    "    for i in range(no_runs):\n",
    "        path = env.simulate(start, policy, method);\n",
    "        player_path = [ el[:2] for el in path ]\n",
    "        minotaur_path = [ el[2:] for el in path ]\n",
    "\n",
    "        if 1 in [1 for i, j in zip(player_path, minotaur_path) if i == j]:\n",
    "            dead_count += 1\n",
    "        paths.append(path)\n",
    "        if path[-1][:2]==(6, 5):\n",
    "            win_count +=1\n",
    "\n",
    "        #print(\"win_count \",win_count)\n",
    "        #print(\"dead_count \",dead_count)\n",
    "\n",
    "    probabilities_escape[horizon] = win_count/no_runs\n"
   ]
  },
  {
   "cell_type": "code",
   "execution_count": 9,
   "metadata": {},
   "outputs": [
    {
     "data": {
      "image/png": "[encoded data removed]",
      "text/plain": [
       "<Figure size 691.2x460.8 with 1 Axes>"
      ]
     },
     "metadata": {
      "needs_background": "light"
     },
     "output_type": "display_data"
    }
   ],
   "source": [
    "#print(probabilities_escape)\n",
    "plt.figure(figsize=(9.6,6.4))\n",
    "plt.plot(range(0,max_horizon),probabilities_escape, 'go')\n",
    "plt.ylabel('Max probability of escape')\n",
    "plt.title('The minotaur cannot stand still')\n",
    "plt.xlabel('Time Horizon')\n",
    "#plt.show()\n",
    "plt.savefig('Q1b_max_prob_escape_cannot_stand_still.png')"
   ]
  },
  {
   "cell_type": "code",
   "execution_count": 11,
   "metadata": {},
   "outputs": [
    {
     "name": "stdout",
     "output_type": "stream",
     "text": [
      "[0. 0. 0. 0. 0. 0. 0. 0. 0. 0. 0. 0. 0. 0. 0. 1. 1. 1. 1. 1. 1. 1. 1. 1.\n",
      " 1. 1. 1. 1. 1. 1. 1. 1. 1. 1. 1. 1. 1. 1. 1. 1.]\n"
     ]
    }
   ],
   "source": [
    "# (b) When the minotaur can stand still"
   ]
  },
  {
   "cell_type": "code",
   "execution_count": 10,
   "metadata": {},
   "outputs": [],
   "source": [
    "# Create an environment maze\n",
    "env = mz.Maze(maze, True)\n",
    "max_horizon = 40"
   ]
  },
  {
   "cell_type": "code",
   "execution_count": 11,
   "metadata": {},
   "outputs": [],
   "source": [
    "probabilities_escape_stay = np.zeros(max_horizon)"
   ]
  },
  {
   "cell_type": "code",
   "execution_count": 12,
   "metadata": {},
   "outputs": [],
   "source": [
    "# Finite horizon\n",
    "for horizon in range(13,max_horizon):\n",
    "\n",
    "    # Solve the MDP problem with dynamic programming \n",
    "    V, policy= mz.dynamic_programming(env,horizon);\n",
    "    # Simulate the shortest path starting from position A\n",
    "    method = 'DynProg';\n",
    "    start  = (0,0,5,6);\n",
    "    path = env.simulate(start, policy, method);\n",
    "    \n",
    "    no_runs = 10000\n",
    "    paths =[]\n",
    "\n",
    "    win_count = 0\n",
    "    dead_count = 0\n",
    "\n",
    "    for i in range(no_runs):\n",
    "        path = env.simulate(start, policy, method);\n",
    "        player_path = [ el[:2] for el in path ]\n",
    "        minotaur_path = [ el[2:] for el in path ]\n",
    "\n",
    "        if 1 in [1 for i, j in zip(player_path, minotaur_path) if i == j]:\n",
    "            dead_count += 1\n",
    "        paths.append(path)\n",
    "        if path[-1][:2]==(6, 5):\n",
    "            win_count +=1\n",
    "\n",
    "        #print(\"win_count \",win_count)\n",
    "        #print(\"dead_count \",dead_count)\n",
    "\n",
    "    probabilities_escape_stay[horizon] = win_count/no_runs"
   ]
  },
  {
   "cell_type": "code",
   "execution_count": 13,
   "metadata": {},
   "outputs": [
    {
     "data": {
      "image/png": "[encoded data removed]",
      "text/plain": [
       "<Figure size 691.2x460.8 with 1 Axes>"
      ]
     },
     "metadata": {
      "needs_background": "light"
     },
     "output_type": "display_data"
    }
   ],
   "source": [
    "plt.figure(figsize=(9.6,6.4))\n",
    "plt.plot(range(0,max_horizon),probabilities_escape_stay, 'bo')\n",
    "plt.title(\"The minotaur cannot stand still\")\n",
    "plt.ylabel('Max probability of escape')\n",
    "plt.xlabel('Time Horizon')\n",
    "plt.savefig('Q1b_max_prob_escape_can_stand_still.png')"
   ]
  },
  {
   "cell_type": "code",
   "execution_count": null,
   "metadata": {},
   "outputs": [],
   "source": [
    "# (c) When the player's life is geometrically distributed."
   ]
  },
  {
   "cell_type": "code",
   "execution_count": 14,
   "metadata": {},
   "outputs": [],
   "source": [
    "# Create an environment maze\n",
    "env = mz.Maze(maze)\n",
    "gamma = 29/30\n",
    "eps = 0.001"
   ]
  },
  {
   "cell_type": "code",
   "execution_count": 15,
   "metadata": {},
   "outputs": [],
   "source": [
    "# Solve the MDP problem with value iteration\n",
    "V, policy= mz.value_iteration(env,gamma,eps);\n",
    "\n",
    "# Simulate the shortest path starting from position A\n",
    "method = 'ValIter';\n",
    "start  = (0,0,6,5);\n",
    "path = env.simulate(start, policy, method);"
   ]
  },
  {
   "cell_type": "code",
   "execution_count": 16,
   "metadata": {},
   "outputs": [
    {
     "name": "stdout",
     "output_type": "stream",
     "text": [
      "Probability of escape  0.7594  in  10000  runs.\n"
     ]
    }
   ],
   "source": [
    "# Caluclate probability of escaping with value iteration\n",
    "no_runs = 10000\n",
    "paths =[]\n",
    "\n",
    "win_count = 0\n",
    "\n",
    "for i in range(no_runs):\n",
    "    path = env.simulate(start, policy, method);\n",
    "    player_path = [ el[:2] for el in path ]\n",
    "    minotaur_path = [ el[2:] for el in path ]\n",
    "\n",
    "    if path[-1][:2]==(6, 5):\n",
    "        win_count +=1\n",
    "\n",
    "print(\"Probability of escape \", win_count/no_runs, \" in \", no_runs, \" runs.\")"
   ]
  }
 ],
 "metadata": {
  "kernelspec": {
   "display_name": "Python 3",
   "language": "python",
   "name": "python3"
  },
  "language_info": {
   "codemirror_mode": {
    "name": "ipython",
    "version": 3
   },
   "file_extension": ".py",
   "mimetype": "text/x-python",
   "name": "python",
   "nbconvert_exporter": "python",
   "pygments_lexer": "ipython3",
   "version": "3.8.3"
  }
 },
 "nbformat": 4,
 "nbformat_minor": 4
}
